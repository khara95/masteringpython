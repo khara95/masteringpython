{
 "cells": [
  {
   "cell_type": "code",
   "execution_count": 15,
   "metadata": {
    "collapsed": false
   },
   "outputs": [
    {
     "data": {
      "image/png": "[encoded data removed]",
      "text/plain": [
       "<matplotlib.figure.Figure at 0x4ccf8bdfd0>"
      ]
     },
     "metadata": {},
     "output_type": "display_data"
    }
   ],
   "source": [
    "\"\"\"\n",
    "Get implied volatilities from a Leisen-Reimer binomial\n",
    "tree using the bisection method as the numerical procedure.\n",
    "\"\"\"\n",
    "from bisection import bisection\n",
    "from BinomialLROption import BinomialLROption\n",
    "\n",
    "class ImpliedVolatilityModel(object):\n",
    "\n",
    "    def __init__(self, S0, r, T, div, N,\n",
    "                 is_call=False):\n",
    "        self.S0 = S0\n",
    "        self.r = r\n",
    "        self.T = T\n",
    "        self.div = div\n",
    "        self.N = N\n",
    "        self.is_call = is_call\n",
    "\n",
    "    def _option_valuation_(self, K, sigma):\n",
    "        # Use the binomial Leisen-Reimer tree\n",
    "        lr_option = BinomialLROption(\n",
    "            self.S0, K, self.r,  self.T, self.N,\n",
    "            {\"sigma\": sigma,\n",
    "             \"is_call\": self.is_call,\n",
    "             \"div\": self.div})\n",
    "        return lr_option.price()\n",
    "\n",
    "    def get_implied_volatilities(self, Ks, opt_prices):\n",
    "        impvols = []\n",
    "        for i in range(len(Ks)):\n",
    "            # Bind f(sigma) for use by the bisection method\n",
    "            f = lambda sigma: \\\n",
    "                self._option_valuation_(\n",
    "                    Ks[i], sigma) - opt_prices[i]\n",
    "            impv = bisection(f, 0.01, 0.99, 0.0001, 100)[0]\n",
    "            impvols.append(impv)\n",
    "        return impvols\n",
    "\n",
    "\n",
    "    # The data\n",
    "strikes = [75, 80, 85, 90, 92.5, 95, 97.5,\n",
    "               100, 105, 110, 115, 120, 125]\n",
    "put_prices = [0.16, 0.32, 0.6, 1.22, 1.77, 2.54, 3.55,\n",
    "                  4.8, 7.75, 11.8, 15.96, 20.75, 25.81]\n",
    "\n",
    "model = ImpliedVolatilityModel(99.62, 0.0248, 78/365.,\n",
    "                                   0.0182, 77, is_call=False)\n",
    "impvols_put = model.get_implied_volatilities(strikes,\n",
    "                                                 put_prices)\n",
    "\n",
    "    # Begin plotting the results\n",
    "import matplotlib.pyplot as plt\n",
    "%matplotlib inline\n",
    "plt.plot(strikes, impvols_put)\n",
    "plt.xlabel('Strike Prices')\n",
    "plt.ylabel('Implied Volatilities')\n",
    "plt.title('AAPL Put Implied Volatilities expiring in 78 days')\n",
    "plt.show()"
   ]
  },
  {
   "cell_type": "code",
   "execution_count": null,
   "metadata": {
    "collapsed": true
   },
   "outputs": [],
   "source": []
  }
 ],
 "metadata": {
  "anaconda-cloud": {},
  "kernelspec": {
   "display_name": "Python [Root]",
   "language": "python",
   "name": "Python [Root]"
  },
  "language_info": {
   "codemirror_mode": {
    "name": "ipython",
    "version": 3
   },
   "file_extension": ".py",
   "mimetype": "text/x-python",
   "name": "python",
   "nbconvert_exporter": "python",
   "pygments_lexer": "ipython3",
   "version": "3.5.2"
  }
 },
 "nbformat": 4,
 "nbformat_minor": 0
}
