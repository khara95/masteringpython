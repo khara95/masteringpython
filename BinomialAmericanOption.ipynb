{
 "cells": [
  {
   "cell_type": "code",
   "execution_count": 2,
   "metadata": {
    "collapsed": false
   },
   "outputs": [],
   "source": [
    "\"\"\"Price a European or American Option by the binomial tree\"\"\"\n",
    "from StockOption import StockOption\n",
    "import math\n",
    "import numpy as np"
   ]
  },
  {
   "cell_type": "code",
   "execution_count": 3,
   "metadata": {
    "collapsed": false
   },
   "outputs": [],
   "source": [
    "class BinomialTreeOption(StockOption):\n",
    "\n",
    "    def _setup_parameters_(self):\n",
    "        self.u = 1 + self.pu  # Expected value in the up state\n",
    "        self.d = 1 - self.pd  # Expected value in the down state\n",
    "        self.qu = (math.exp((self.r-self.div)*self.dt) -\n",
    "                   self.d)/(self.u-self.d)\n",
    "        self.qd = 1-self.qu\n",
    "\n",
    "    def _initialize_stock_price_tree_(self):\n",
    "        # Initialize a 2D tree at T=0\n",
    "        self.STs = [np.array([self.S0])]\n",
    "\n",
    "        # Simulate the possible stock prices path\n",
    "        for i in range(self.N):\n",
    "            prev_branches = self.STs[-1]\n",
    "            st = np.concatenate((prev_branches*self.u,\n",
    "                                 [prev_branches[-1]*self.d]))\n",
    "            self.STs.append(st)  # Add nodes at each time step\n",
    "\n",
    "    def _initialize_payoffs_tree_(self):\n",
    "        # The payoffs when option expires\n",
    "        return np.maximum(\n",
    "            0, (self.STs[self.N]-self.K) if self.is_call\n",
    "            else (self.K-self.STs[self.N]))\n",
    "\n",
    "    def __check_early_exercise__(self, payoffs, node):\n",
    "        early_ex_payoff = \\\n",
    "            (self.STs[node] - self.K) if self.is_call \\\n",
    "            else (self.K - self.STs[node])\n",
    "\n",
    "        return np.maximum(payoffs, early_ex_payoff)\n",
    "\n",
    "    def _traverse_tree_(self, payoffs):\n",
    "        for i in reversed(range(self.N)):\n",
    "            # The payoffs from NOT exercising the option\n",
    "            payoffs = (payoffs[:-1] * self.qu +\n",
    "                       payoffs[1:] * self.qd) * self.df\n",
    "\n",
    "            # Payoffs from exercising, for American options\n",
    "            if not self.is_european:\n",
    "                payoffs = self.__check_early_exercise__(payoffs,\n",
    "                                                        i)\n",
    "\n",
    "        return payoffs\n",
    "\n",
    "    def __begin_tree_traversal__(self):\n",
    "        payoffs = self._initialize_payoffs_tree_()\n",
    "        return self._traverse_tree_(payoffs)\n",
    "\n",
    "    def price(self):\n",
    "        self._setup_parameters_()\n",
    "        self._initialize_stock_price_tree_()\n",
    "        payoffs = self.__begin_tree_traversal__()\n",
    "\n",
    "        return payoffs[0]"
   ]
  },
  {
   "cell_type": "code",
   "execution_count": null,
   "metadata": {
    "collapsed": true
   },
   "outputs": [],
   "source": []
  }
 ],
 "metadata": {
  "anaconda-cloud": {},
  "kernelspec": {
   "display_name": "Python [Root]",
   "language": "python",
   "name": "Python [Root]"
  },
  "language_info": {
   "codemirror_mode": {
    "name": "ipython",
    "version": 3
   },
   "file_extension": ".py",
   "mimetype": "text/x-python",
   "name": "python",
   "nbconvert_exporter": "python",
   "pygments_lexer": "ipython3",
   "version": "3.5.2"
  }
 },
 "nbformat": 4,
 "nbformat_minor": 0
}
