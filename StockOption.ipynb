{
 "cells": [
  {
   "cell_type": "code",
   "execution_count": 2,
   "metadata": {
    "collapsed": false
   },
   "outputs": [
    {
     "data": {
      "text/plain": [
       "'Store common attributes of a stock option'"
      ]
     },
     "execution_count": 2,
     "metadata": {},
     "output_type": "execute_result"
    }
   ],
   "source": [
    "\"\"\"Store common attributes of a stock option\"\"\""
   ]
  },
  {
   "cell_type": "code",
   "execution_count": 3,
   "metadata": {
    "collapsed": true
   },
   "outputs": [],
   "source": [
    "import math"
   ]
  },
  {
   "cell_type": "code",
   "execution_count": 7,
   "metadata": {
    "collapsed": false
   },
   "outputs": [],
   "source": [
    "class StockOption(object):\n",
    "    def __init__(self, S0, K, r, T, N, params): #インスタンスを作る\n",
    "        self.S0 = S0\n",
    "        self.K = K\n",
    "        self.r = r\n",
    "        self.T = T\n",
    "        self.N = max(1, N) #Ensure N have at least 1 time step\n",
    "        self.STs = None #Declare the stock prices tree\n",
    "        \n",
    "        \"\"\" Optional parameters used by derived classes\"\"\"\n",
    "        self.pu = params.get(\"pu\", 0) #Probability of up state\n",
    "        self.pd = params.get(\"pd\", 0) #Probability of down state\n",
    "        self.div = params.get(\"div\", 0) #Dividend Yield\n",
    "        self.sigma = params.get(\"sigma\", 0) #Volatility\n",
    "        self.is_call = params.get(\"is_call\", True) # Call or put\n",
    "        self.is_european = params.get(\"is_eu\", True) #Eu or Am\n",
    "        \n",
    "        \"\"\"Computed values\"\"\"\n",
    "        self.dt = T/float(N) #Single time step, in years\n",
    "        self.df = math.exp( -(r-self.div) * self.dt) #Discount factor\n",
    "        "
   ]
  },
  {
   "cell_type": "code",
   "execution_count": null,
   "metadata": {
    "collapsed": false
   },
   "outputs": [],
   "source": []
  },
  {
   "cell_type": "code",
   "execution_count": null,
   "metadata": {
    "collapsed": true
   },
   "outputs": [],
   "source": []
  }
 ],
 "metadata": {
  "anaconda-cloud": {},
  "kernelspec": {
   "display_name": "Python [Root]",
   "language": "python",
   "name": "Python [Root]"
  },
  "language_info": {
   "codemirror_mode": {
    "name": "ipython",
    "version": 3
   },
   "file_extension": ".py",
   "mimetype": "text/x-python",
   "name": "python",
   "nbconvert_exporter": "python",
   "pygments_lexer": "ipython3",
   "version": "3.5.2"
  }
 },
 "nbformat": 4,
 "nbformat_minor": 0
}
