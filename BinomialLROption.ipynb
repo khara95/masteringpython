{
 "cells": [
  {
   "cell_type": "code",
   "execution_count": 1,
   "metadata": {
    "collapsed": true
   },
   "outputs": [],
   "source": [
    "\"\"\"Price an option by the Leisen-Reimer tree\"\"\"\n",
    "from BinomialAmericanOption import BinomialTreeOption\n",
    "import math"
   ]
  },
  {
   "cell_type": "code",
   "execution_count": null,
   "metadata": {
    "collapsed": true
   },
   "outputs": [],
   "source": [
    "class BinomialLROption(BinomialTreeOption):\n",
    "\n",
    "    def _setup_parameters_(self):\n",
    "        odd_N = self.N if (self.N%2 == 1) else (self.N+1)\n",
    "        d1 = (math.log(self.S0/self.K) +\n",
    "              ((self.r-self.div) +\n",
    "               (self.sigma**2)/2.) *\n",
    "              self.T) / (self.sigma * math.sqrt(self.T))\n",
    "        d2 = (math.log(self.S0/self.K) +\n",
    "              ((self.r-self.div) -\n",
    "               (self.sigma**2)/2.) *\n",
    "              self.T) / (self.sigma * math.sqrt(self.T))\n",
    "        pp_2_inversion = \\\n",
    "            lambda z, n: \\\n",
    "            .5 + math.copysign(1, z) * \\\n",
    "            math.sqrt(.25 - .25 * math.exp(\n",
    "                -((z/(n+1./3.+.1/(n+1)))**2.)*(n+1./6.)))\n",
    "        pbar = pp_2_inversion(d1, odd_N)\n",
    "\n",
    "        self.p = pp_2_inversion(d2, odd_N)\n",
    "        self.u = 1/self.df * pbar/self.p\n",
    "        self.d = (1/self.df - self.p*self.u)/(1-self.p)\n",
    "        self.qu = self.p\n",
    "        self.qd = 1-self.p"
   ]
  }
 ],
 "metadata": {
  "anaconda-cloud": {},
  "kernelspec": {
   "display_name": "Python [Root]",
   "language": "python",
   "name": "Python [Root]"
  },
  "language_info": {
   "codemirror_mode": {
    "name": "ipython",
    "version": 3
   },
   "file_extension": ".py",
   "mimetype": "text/x-python",
   "name": "python",
   "nbconvert_exporter": "python",
   "pygments_lexer": "ipython3",
   "version": "3.5.2"
  }
 },
 "nbformat": 4,
 "nbformat_minor": 0
}
