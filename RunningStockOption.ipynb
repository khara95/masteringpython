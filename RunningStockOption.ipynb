{
 "cells": [
  {
   "cell_type": "code",
   "execution_count": 1,
   "metadata": {
    "collapsed": false
   },
   "outputs": [
    {
     "name": "stdout",
     "output_type": "stream",
     "text": [
      "4.82565175126\n"
     ]
    }
   ],
   "source": [
    "from StockOption import StockOption\n",
    "from BinomialEuropeanOption import BinomialEuropeanOption\n",
    "eu_option = BinomialEuropeanOption(\n",
    "    50, 50, 0.05, 0.5, 2,\n",
    "    {\"pu\": 0.2, \"pd\": 0.2, \"is_call\": False})\n",
    "print(eu_option.price())"
   ]
  },
  {
   "cell_type": "code",
   "execution_count": null,
   "metadata": {
    "collapsed": true
   },
   "outputs": [],
   "source": []
  }
 ],
 "metadata": {
  "kernelspec": {
   "display_name": "Python [Root]",
   "language": "python",
   "name": "Python [Root]"
  },
  "language_info": {
   "codemirror_mode": {
    "name": "ipython",
    "version": 3
   },
   "file_extension": ".py",
   "mimetype": "text/x-python",
   "name": "python",
   "nbconvert_exporter": "python",
   "pygments_lexer": "ipython3",
   "version": "3.5.2"
  }
 },
 "nbformat": 4,
 "nbformat_minor": 0
}
