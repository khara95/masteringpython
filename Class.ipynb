{
 "cells": [
  {
   "cell_type": "code",
   "execution_count": 1,
   "metadata": {
    "collapsed": true
   },
   "outputs": [],
   "source": [
    "class stockprice:\n",
    "    def stockname(self, name):\n",
    "        self.name = name\n",
    "    def stockprice(self, price):\n",
    "        self.price = price\n",
    "    def displayprice(self):\n",
    "            return self.price"
   ]
  },
  {
   "cell_type": "code",
   "execution_count": 2,
   "metadata": {
    "collapsed": false
   },
   "outputs": [
    {
     "data": {
      "text/plain": [
       "'800'"
      ]
     },
     "execution_count": 2,
     "metadata": {},
     "output_type": "execute_result"
    }
   ],
   "source": [
    "bac = stockprice()\n",
    "gs = stockprice()\n",
    "bac.stockname(\"BANK OF AMERICA\")\n",
    "gs.stockname(\"GOLDMAN SACHS\")\n",
    "bac.stockprice(\"800\")\n",
    "gs.stockprice(\"100\")\n",
    "bac.displayprice()"
   ]
  },
  {
   "cell_type": "code",
   "execution_count": 3,
   "metadata": {
    "collapsed": false
   },
   "outputs": [
    {
     "name": "stdout",
     "output_type": "stream",
     "text": [
      "100\n"
     ]
    }
   ],
   "source": [
    "print(gs.displayprice())"
   ]
  },
  {
   "cell_type": "code",
   "execution_count": 4,
   "metadata": {
    "collapsed": false
   },
   "outputs": [
    {
     "data": {
      "text/plain": [
       "'100'"
      ]
     },
     "execution_count": 4,
     "metadata": {},
     "output_type": "execute_result"
    }
   ],
   "source": [
    "gs.displayprice()"
   ]
  },
  {
   "cell_type": "code",
   "execution_count": 5,
   "metadata": {
    "collapsed": false,
    "scrolled": true
   },
   "outputs": [
    {
     "name": "stdout",
     "output_type": "stream",
     "text": [
      "Ryan Stevens performed a math 101.000000\n"
     ]
    },
    {
     "data": {
      "text/plain": [
       "101"
      ]
     },
     "execution_count": 5,
     "metadata": {},
     "output_type": "execute_result"
    }
   ],
   "source": [
    "class Human():\n",
    "    def __init__(self, name, gender):\n",
    "        self.name = name\n",
    "        self.gender = gender\n",
    "    def speak_name(self):\n",
    "        print (\"My name is %s\" %self.name)\n",
    "    def perform_math(self,math, *args):\n",
    "        print(\"%s performed a math %f\" %(self.name,math(*args)))\n",
    "def add (a, b):\n",
    "    return a + b\n",
    "ryan = Human(\"Ryan Stevens\", \"Male\")\n",
    "ryan.perform_math(add,34, 67)\n",
    "add(34,67)"
   ]
  },
  {
   "cell_type": "code",
   "execution_count": 6,
   "metadata": {
    "collapsed": false
   },
   "outputs": [
    {
     "name": "stdout",
     "output_type": "stream",
     "text": [
      "Ryan Stevens\n"
     ]
    }
   ],
   "source": [
    "print(ryan.name)"
   ]
  },
  {
   "cell_type": "code",
   "execution_count": 7,
   "metadata": {
    "collapsed": false
   },
   "outputs": [
    {
     "ename": "ImportError",
     "evalue": "No module named 'sympy.mpmath'",
     "output_type": "error",
     "traceback": [
      "\u001b[1;31m---------------------------------------------------------------------------\u001b[0m",
      "\u001b[1;31mImportError\u001b[0m                               Traceback (most recent call last)",
      "\u001b[1;32m<ipython-input-7-f869c4054988>\u001b[0m in \u001b[0;36m<module>\u001b[1;34m()\u001b[0m\n\u001b[0;32m      1\u001b[0m \u001b[1;32mimport\u001b[0m \u001b[0margparse\u001b[0m\u001b[1;33m\u001b[0m\u001b[0m\n\u001b[1;32m----> 2\u001b[1;33m \u001b[1;32mfrom\u001b[0m \u001b[0msympy\u001b[0m\u001b[1;33m.\u001b[0m\u001b[0mmpmath\u001b[0m \u001b[1;32mimport\u001b[0m \u001b[0mlog\u001b[0m\u001b[1;33m,\u001b[0m \u001b[0msqrt\u001b[0m\u001b[1;33m,\u001b[0m \u001b[0mexp\u001b[0m\u001b[1;33m\u001b[0m\u001b[0m\n\u001b[0m\u001b[0;32m      3\u001b[0m \u001b[1;32mfrom\u001b[0m \u001b[0msympy\u001b[0m\u001b[1;33m.\u001b[0m\u001b[0mstatistics\u001b[0m \u001b[1;32mimport\u001b[0m \u001b[0mNormal\u001b[0m\u001b[1;33m\u001b[0m\u001b[0m\n",
      "\u001b[1;31mImportError\u001b[0m: No module named 'sympy.mpmath'"
     ]
    }
   ],
   "source": [
    "import argparse\n",
    "from sympy.mpmath import log, sqrt, exp\n",
    "from sympy.statistics import Normal"
   ]
  },
  {
   "cell_type": "code",
   "execution_count": 19,
   "metadata": {
    "collapsed": false
   },
   "outputs": [],
   "source": [
    "import math\n",
    "\n",
    "class putoption():\n",
    "    def __init__(self,C,S,K,r,T):\n",
    "        self.C = C\n",
    "        self.S = S\n",
    "        self.K = K\n",
    "        self.r = r\n",
    "        self.T = T\n",
    "    def price(self):\n",
    "        P =math.exp(-self.r*self.T)*self.K + self.C - self.S\n",
    "        return P"
   ]
  },
  {
   "cell_type": "code",
   "execution_count": 20,
   "metadata": {
    "collapsed": false
   },
   "outputs": [
    {
     "name": "stdout",
     "output_type": "stream",
     "text": [
      "37.505206886875385\n"
     ]
    }
   ],
   "source": [
    "Nikkei = putoption(50,15000,15000,0.01,1/12)\n",
    "print(Nikkei.price())"
   ]
  },
  {
   "cell_type": "code",
   "execution_count": null,
   "metadata": {
    "collapsed": true
   },
   "outputs": [],
   "source": [
    "class Creature(object):\n",
    "    def __init__(self, level=1, weapon=None):\n",
    "        self.level = level\n",
    "        self.hp = 0\n",
    "        self.mp = 0\n",
    "        self.attack = 0\n",
    "        self.defence = 0\n",
    "        self.weapon = weapon\n",
    "        self.job = \"neet\"\n",
    "\n",
    "    def status(self):\n",
    "        return \"Job:{} | HP:{} | MP:{} | Atk:{} | Def:{} | Weapon:{}\".format \\\n",
    "                (self.job, self.hp, self.mp, self.attack, self.defence, self.weapon)\n",
    "\n",
    "\n",
    "class Warrior(Creature):\n",
    "    def __init__(self, level):\n",
    "        super().__init__(level)\n",
    "        self.attack += 3 * level\n",
    "        if self.weapon is None:\n",
    "            self.weapon = \"sword\"\n",
    "        if self.job == \"neet\":\n",
    "            self.job = \"Warrior\"\n",
    "        else: self.job += \"Warrior\"\n",
    "\n",
    "\n",
    "class Magician(Creature):\n",
    "    def __init__(self, level):\n",
    "        super().__init__(level)\n",
    "        self.mp += 4 * level\n",
    "        if self.weapon is None:\n",
    "            self.weapon = \"rod\"\n",
    "        if self.job == \"neet\":\n",
    "            self.job = \"Magic\"\n",
    "        else: self.job += \"Magic\""
   ]
  }
 ],
 "metadata": {
  "kernelspec": {
   "display_name": "Python [Root]",
   "language": "python",
   "name": "Python [Root]"
  },
  "language_info": {
   "codemirror_mode": {
    "name": "ipython",
    "version": 3
   },
   "file_extension": ".py",
   "mimetype": "text/x-python",
   "name": "python",
   "nbconvert_exporter": "python",
   "pygments_lexer": "ipython3",
   "version": "3.5.2"
  }
 },
 "nbformat": 4,
 "nbformat_minor": 0
}
