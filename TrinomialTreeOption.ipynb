{
 "cells": [
  {
   "cell_type": "code",
   "execution_count": 1,
   "metadata": {
    "collapsed": false
   },
   "outputs": [],
   "source": [
    "\"\"\"Price an option by the Boyle trinomial tree\"\"\"\n",
    "from BinomialAmericanOption import BinomialTreeOption\n",
    "import math\n",
    "import numpy as np"
   ]
  },
  {
   "cell_type": "code",
   "execution_count": 2,
   "metadata": {
    "collapsed": true
   },
   "outputs": [],
   "source": [
    "class TrinomialTreeOption(BinomialTreeOption):\n",
    "    \n",
    "    def _setup_parameters_(self):\n",
    "        \"\"\"Required calculations for the model\"\"\"\n",
    "        self.u = math.exp(self.sigma*math.sqrt(2.*self.dt))\n",
    "        self.d = 1/self.u\n",
    "        self.m = 1\n",
    "        self.qu = ((math.exp((self.r-self.div) *self.dt/2.) -\n",
    "                    math.exp(-self.sigma *math.sqrt(self.dt/2.))) /\n",
    "                  (math.exp(self.sigma * math.sqrt(self.dt/2.)) -\n",
    "                    math.exp(-self.sigma *math.sqrt(self.dt/2.))))**2\n",
    "        self.qd = ((math.exp(self.sigma *math.sqrt(self.dt/2.)) -\n",
    "                    math.exp((self.r-self.div) *self.dt/2.)) /\n",
    "                  (math.exp(self.sigma * math.sqrt(self.dt/2.)) -\n",
    "                    math.exp(-self.sigma *math.sqrt(self.dt/2.))))**2\n",
    "        self.qm = 1-self.qu -self.qd\n",
    "        \n",
    "    def _initialize_stock_price_tree_(self):\n",
    "        \"\"\"initialize a 2D tree at t=0\"\"\"\n",
    "        self.STs = [np.array([self.S0])]\n",
    "        \n",
    "        for i in range(self.N):\n",
    "            prev_nodes = self.STs[-1]\n",
    "            self.ST = np.concatenate(\n",
    "            (prev_nodes*self.u, [prev_nodes[-1]*self.m,\n",
    "                                prev_nodes[-1]*self.d]))\n",
    "            self.STs.append(self.ST)\n",
    "        \n",
    "    def _traverse_tree_(self, payoffs):\n",
    "        \"\"\" Traverse the tree backwards\"\"\"\n",
    "        for i in reversed(range(self.N)):\n",
    "            payoffs = (payoffs[:-2] * self.qu +\n",
    "                      payoffs[1:-1] * self.qm +\n",
    "                      payoffs[2:] * self.qd) * self.df\n",
    "            if not self.is_european:\n",
    "                payoffs = self.__check_early_exercise__(payoffs,i)\n",
    "                \n",
    "        return payoffs"
   ]
  },
  {
   "cell_type": "code",
   "execution_count": null,
   "metadata": {
    "collapsed": true
   },
   "outputs": [],
   "source": []
  }
 ],
 "metadata": {
  "kernelspec": {
   "display_name": "Python [Root]",
   "language": "python",
   "name": "Python [Root]"
  },
  "language_info": {
   "codemirror_mode": {
    "name": "ipython",
    "version": 3
   },
   "file_extension": ".py",
   "mimetype": "text/x-python",
   "name": "python",
   "nbconvert_exporter": "python",
   "pygments_lexer": "ipython3",
   "version": "3.5.2"
  }
 },
 "nbformat": 4,
 "nbformat_minor": 0
}
