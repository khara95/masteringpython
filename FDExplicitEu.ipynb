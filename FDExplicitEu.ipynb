{
 "cells": [
  {
   "cell_type": "code",
   "execution_count": 1,
   "metadata": {
    "collapsed": true
   },
   "outputs": [],
   "source": [
    "\"\"\"Explicit method of Finite Differences\"\"\"\n",
    "import numpy as np"
   ]
  },
  {
   "cell_type": "code",
   "execution_count": 3,
   "metadata": {
    "collapsed": false
   },
   "outputs": [],
   "source": [
    "from FiniteDifferences import FiniteDifferences"
   ]
  },
  {
   "cell_type": "code",
   "execution_count": null,
   "metadata": {
    "collapsed": true
   },
   "outputs": [],
   "source": [
    "class FDExplicitEu(FiniteDifferences):\n",
    "    def _setup_boundary_conditions_(self):\n",
    "        if self.is_call:\n",
    "            self.grid[:,-1] = np.maximum(self.boundary_conds - self.K, 0)\n",
    "            self.grid[-1, :-1] = (self.Smax - self.K) * np.exp(-self.r * self.dt * (self.N-self.j_values))\n",
    "        else:\n",
    "            self.grid[:,-1] = np.maximum(self.K - self.boundary_conds, 0)\n",
    "            self.grid[-1, :-1] = (self.K - self.Smax) * np.exp(-self.r * self.dt * (self.N-self.j_values))\n",
    "            \n",
    "    def _setup_coefficients_(self):\n",
    "        self.a = 0.5*self.dt*((self.sigma**2) * (self.i_values**2) - self.r*self.i_values)\n",
    "        self.b = 1 - self.dt*((self.sigma**2) * (self.i_values**2) + self.r)\n",
    "        self.c = 0.5*self.dt*((self.sigma**2) * (self.i_values**2) + self.r*self.i_values)\n",
    "        \n",
    "    def _traverse_grid_(self):\n",
    "        for j in reversed(self.j_values):\n",
    "            for i in range(self.M)[2:]:\n",
    "                self.grid[i,j] = self.a[i]*self.grid[i-1,j+1] +\\\n",
    "                                 self.b[i]*self.grid[i,j+1] +\\\n",
    "                                 self.c[i]*self.grid[i+1,j+1]\n",
    "        print(self.grid)"
   ]
  }
 ],
 "metadata": {
  "kernelspec": {
   "display_name": "Python [Root]",
   "language": "python",
   "name": "Python [Root]"
  },
  "language_info": {
   "codemirror_mode": {
    "name": "ipython",
    "version": 3
   },
   "file_extension": ".py",
   "mimetype": "text/x-python",
   "name": "python",
   "nbconvert_exporter": "python",
   "pygments_lexer": "ipython3",
   "version": "3.5.2"
  }
 },
 "nbformat": 4,
 "nbformat_minor": 0
}
