{
 "cells": [
  {
   "cell_type": "code",
   "execution_count": 2,
   "metadata": {
    "collapsed": false
   },
   "outputs": [],
   "source": [
    "\"\"\"Price an option by the binomial CRR model\"\"\"\n",
    "from BinomialAmericanOption import BinomialTreeOption\n",
    "import math"
   ]
  },
  {
   "cell_type": "code",
   "execution_count": 3,
   "metadata": {
    "collapsed": true
   },
   "outputs": [],
   "source": [
    "class BinomialCRROption(BinomialTreeOption):\n",
    "    def _setup_parameters_(self):\n",
    "        self.u = math.exp(self.sigma * math.sqrt(self.dt))\n",
    "        self.d = 1./self.u\n",
    "        self.qu = (math.exp((self.r-self.div)*self.dt) - self.d)/(self.u-self.d)\n",
    "        self.qd = 1-self.qu"
   ]
  },
  {
   "cell_type": "code",
   "execution_count": null,
   "metadata": {
    "collapsed": true
   },
   "outputs": [],
   "source": []
  }
 ],
 "metadata": {
  "kernelspec": {
   "display_name": "Python [Root]",
   "language": "python",
   "name": "Python [Root]"
  },
  "language_info": {
   "codemirror_mode": {
    "name": "ipython",
    "version": 3
   },
   "file_extension": ".py",
   "mimetype": "text/x-python",
   "name": "python",
   "nbconvert_exporter": "python",
   "pygments_lexer": "ipython3",
   "version": "3.5.2"
  }
 },
 "nbformat": 4,
 "nbformat_minor": 0
}
