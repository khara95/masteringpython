{
 "cells": [
  {
   "cell_type": "code",
   "execution_count": 3,
   "metadata": {
    "collapsed": false
   },
   "outputs": [],
   "source": [
    "\"\"\"Price a European option by the binomial tree model\"\"\"\n",
    "from StockOption import StockOption\n",
    "import math\n",
    "import numpy as np"
   ]
  },
  {
   "cell_type": "code",
   "execution_count": 5,
   "metadata": {
    "collapsed": false
   },
   "outputs": [],
   "source": [
    "class BinomialEuropeanOption(StockOption):\n",
    "    def __setup_parameters__(self):\n",
    "        \"\"\"Required calculations for the model\"\"\"\n",
    "        self.M = self.N + 1 #Number of terminal nodes of tree\n",
    "        self.u = 1 + self.pu #Expected value in the up state\n",
    "        self.d = 1 - self.pd #Expected value in the down state\n",
    "        self.qu = (math.exp((self.r-self.div)*self.dt) - self.d) / (self.u-self.d)\n",
    "        self.qd = 1-self.qu\n",
    "    def _initialize_stock_price_tree_(self):\n",
    "        # Initialize terminal price nodes to zeros\n",
    "        self.STs = np.zeros(self.M)\n",
    "        \n",
    "        #calculate expected stock prices for each node\n",
    "        for i in range(self.M):\n",
    "            self.STs[i] = self.S0*(self.u**(self.N-i))*(self.d**i)\n",
    "            \n",
    "    def _initialize_payoffs_tree_(self):\n",
    "        # Get payoffs when the option expires at terminal nodes\n",
    "        payoffs = np.maximum(\n",
    "            0, (self.STs-self.K) if self.is_call\n",
    "            else(self.K-self.STs))\n",
    "        \n",
    "        return payoffs\n",
    "    \n",
    "    def _traverse_tree(self, payoffs):\n",
    "        #Starting from the time the option expires, traverse\n",
    "        #backwards and calculate discounted payoffs at each node\n",
    "        for i in range(self.N):\n",
    "            payoffs = (payoffs[:-1] * self.qu +\n",
    "                       payoffs[1:] *self.qd) * self.df\n",
    "            \n",
    "        return payoffs\n",
    "    \n",
    "    def __begin_tree_traversal__(self):\n",
    "        payoffs = self._initialize_payoffs_tree_()\n",
    "        return self._traverse_tree_(payoffs)\n",
    "    \n",
    "    def price(self):\n",
    "        \"\"\"The pricing implementation\"\"\"\n",
    "        self.__setup_paraments__()\n",
    "        self._initialize_stock_price_tree_()\n",
    "        payoffs = self.__begin_tree_traversal__()\n",
    "        \n",
    "        return payoffs[0] #Option value converges to first node"
   ]
  },
  {
   "cell_type": "code",
   "execution_count": null,
   "metadata": {
    "collapsed": true
   },
   "outputs": [],
   "source": []
  }
 ],
 "metadata": {
  "kernelspec": {
   "display_name": "Python [Root]",
   "language": "python",
   "name": "Python [Root]"
  },
  "language_info": {
   "codemirror_mode": {
    "name": "ipython",
    "version": 3
   },
   "file_extension": ".py",
   "mimetype": "text/x-python",
   "name": "python",
   "nbconvert_exporter": "python",
   "pygments_lexer": "ipython3",
   "version": "3.5.2"
  }
 },
 "nbformat": 4,
 "nbformat_minor": 0
}
