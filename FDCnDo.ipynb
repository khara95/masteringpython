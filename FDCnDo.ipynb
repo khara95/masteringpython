{
 "cells": [
  {
   "cell_type": "code",
   "execution_count": null,
   "metadata": {
    "collapsed": true
   },
   "outputs": [],
   "source": [
    "\"\"\"\n",
    "Price a down-and-out option by the Crank-Nicolson\n",
    "method of finite differences.\n",
    "\"\"\"\n",
    "import numpy as np\n",
    "from FDCnEu import FDCnEu\n",
    "\n",
    "class FDCnDo(FDCnEu):\n",
    "    def __init__(self, S0, K, r, T, sigma, Sbarrier, Smax, M, N,\n",
    "                 is_call=True):\n",
    "        super(FDCnDo, self).__init__(S0, K, r, T, sigma, Smax, M, N, is_call)\n",
    "        self.dS = (Smax-Sbarrier)/float(self.M)\n",
    "        self.boundary_conds = np.linspace(Sbarrier,\n",
    "                                          Smax,\n",
    "                                          self.M+1)\n",
    "        self.i_values = self.boundary_conds/self.dS"
   ]
  }
 ],
 "metadata": {
  "kernelspec": {
   "display_name": "Python [Root]",
   "language": "python",
   "name": "Python [Root]"
  },
  "language_info": {
   "codemirror_mode": {
    "name": "ipython",
    "version": 3
   },
   "file_extension": ".py",
   "mimetype": "text/x-python",
   "name": "python",
   "nbconvert_exporter": "python",
   "pygments_lexer": "ipython3",
   "version": "3.5.2"
  }
 },
 "nbformat": 4,
 "nbformat_minor": 0
}
