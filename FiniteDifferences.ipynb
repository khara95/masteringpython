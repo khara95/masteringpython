{
 "cells": [
  {
   "cell_type": "code",
   "execution_count": 3,
   "metadata": {
    "collapsed": true
   },
   "outputs": [],
   "source": [
    "\"\"\"Shared attributes and functions of FD\"\"\"\n",
    "import numpy as np"
   ]
  },
  {
   "cell_type": "code",
   "execution_count": 5,
   "metadata": {
    "collapsed": true
   },
   "outputs": [],
   "source": [
    "class FiniteDifferences(object):\n",
    "    def __init__(self, S0, K, r, T, sigma, Smax, M, N, is_call=True):\n",
    "        self.S0 = S0\n",
    "        self.K = K\n",
    "        self.r = r\n",
    "        self.T = T\n",
    "        self.sigma = sigma\n",
    "        self.Smax = Smax\n",
    "        self.M, self.N = int(M), int(N) #Ensure M&N are integers\n",
    "        self.is_call = is_call\n",
    "        self.dS = Smax / float(self.M)\n",
    "        self.dt = T / float(self.N)\n",
    "        self.i_values = np.arange(self.M)\n",
    "        self.j_values = np.arange(self.N)\n",
    "        self.grid = np.zeros(shape=(self.M+1, self.N+1))\n",
    "        self.boundary_conds = np.linspace(0, Smax, self.M+1)\n",
    "    def _setup_boundary_conditions_(self):\n",
    "        pass\n",
    "    \n",
    "    def _setup_coefficients_(self):\n",
    "        pass\n",
    "    \n",
    "    def _traverse_grid_(self):\n",
    "        \"\"\"Iterate the grid backwards in time\"\"\"\n",
    "        pass\n",
    "    \n",
    "    def _interpolate_(self):\n",
    "        \"\"\"\n",
    "        use piecewise linear interpolation on the initial grid column to get the closest price at S0.\n",
    "        \"\"\"\n",
    "        return np.interp(self.S0,\n",
    "                        self.boundary_conds,\n",
    "                        self.grid[:, 0])\n",
    "    def price(self):\n",
    "        self._setup_boundary_conditions_()\n",
    "        self._setup_coefficients_()\n",
    "        self._traverse_grid_()\n",
    "        return self._interpolate_()"
   ]
  },
  {
   "cell_type": "code",
   "execution_count": null,
   "metadata": {
    "collapsed": true
   },
   "outputs": [],
   "source": []
  }
 ],
 "metadata": {
  "kernelspec": {
   "display_name": "Python [Root]",
   "language": "python",
   "name": "Python [Root]"
  },
  "language_info": {
   "codemirror_mode": {
    "name": "ipython",
    "version": 3
   },
   "file_extension": ".py",
   "mimetype": "text/x-python",
   "name": "python",
   "nbconvert_exporter": "python",
   "pygments_lexer": "ipython3",
   "version": "3.5.2"
  }
 },
 "nbformat": 4,
 "nbformat_minor": 0
}
